{
  "cells": [
    {
      "cell_type": "markdown",
      "metadata": {
        "id": "view-in-github",
        "colab_type": "text"
      },
      "source": [
        "<a href=\"https://colab.research.google.com/github/fildahgwen/domain_generation_a_detection/blob/main/DGA_Binary_Classification.ipynb\" target=\"_parent\"><img src=\"https://colab.research.google.com/assets/colab-badge.svg\" alt=\"Open In Colab\"/></a>"
      ]
    },
    {
      "cell_type": "code",
      "execution_count": 27,
      "metadata": {
        "id": "CZRLeM0sOpFS"
      },
      "outputs": [],
      "source": [
        "RANDOM_STATE = 42"
      ]
    },
    {
      "cell_type": "code",
      "execution_count": 28,
      "metadata": {
        "id": "TJiKwkxCOuWz"
      },
      "outputs": [],
      "source": [
        "# Import Libraries\n",
        "import pandas as pd\n",
        "import numpy as np\n",
        "import seaborn as sns\n",
        "import matplotlib\n",
        "from matplotlib import pyplot as plt"
      ]
    },
    {
      "cell_type": "markdown",
      "metadata": {
        "id": "hUZm3LXkOlTa"
      },
      "source": [
        "# **EDA**"
      ]
    },
    {
      "cell_type": "code",
      "execution_count": 29,
      "metadata": {
        "id": "VC5IhfQQPd9l",
        "colab": {
          "base_uri": "https://localhost:8080/"
        },
        "outputId": "2675ad6e-ee4f-4ff7-ad4d-9c70ba4c8ec9"
      },
      "outputs": [
        {
          "output_type": "stream",
          "name": "stdout",
          "text": [
            "Drive already mounted at /content/drive; to attempt to forcibly remount, call drive.mount(\"/content/drive\", force_remount=True).\n",
            "/content/drive/MyDrive\n"
          ]
        }
      ],
      "source": [
        "# Mount Drive\n",
        "from google.colab import drive\n",
        "drive.mount('/content/drive')\n",
        "%cd /content/drive/MyDrive/"
      ]
    },
    {
      "cell_type": "code",
      "execution_count": 30,
      "metadata": {
        "colab": {
          "base_uri": "https://localhost:8080/",
          "height": 206
        },
        "id": "o83B_9_Kb9OF",
        "outputId": "6fd3b373-df36-47e4-a56e-e8aaa65e624b"
      },
      "outputs": [
        {
          "output_type": "execute_result",
          "data": {
            "text/plain": [
              "            Domain Family\n",
              "0   jkybwgxpfr.com    DGA\n",
              "1       scxjfe.com    DGA\n",
              "2  xmkrwnrrtes.com    DGA\n",
              "3      cagqhss.net    DGA\n",
              "4       vljdew.com    DGA"
            ],
            "text/html": [
              "\n",
              "  <div id=\"df-0241d4e1-f911-4b50-8df7-4cd0ab4abb65\" class=\"colab-df-container\">\n",
              "    <div>\n",
              "<style scoped>\n",
              "    .dataframe tbody tr th:only-of-type {\n",
              "        vertical-align: middle;\n",
              "    }\n",
              "\n",
              "    .dataframe tbody tr th {\n",
              "        vertical-align: top;\n",
              "    }\n",
              "\n",
              "    .dataframe thead th {\n",
              "        text-align: right;\n",
              "    }\n",
              "</style>\n",
              "<table border=\"1\" class=\"dataframe\">\n",
              "  <thead>\n",
              "    <tr style=\"text-align: right;\">\n",
              "      <th></th>\n",
              "      <th>Domain</th>\n",
              "      <th>Family</th>\n",
              "    </tr>\n",
              "  </thead>\n",
              "  <tbody>\n",
              "    <tr>\n",
              "      <th>0</th>\n",
              "      <td>jkybwgxpfr.com</td>\n",
              "      <td>DGA</td>\n",
              "    </tr>\n",
              "    <tr>\n",
              "      <th>1</th>\n",
              "      <td>scxjfe.com</td>\n",
              "      <td>DGA</td>\n",
              "    </tr>\n",
              "    <tr>\n",
              "      <th>2</th>\n",
              "      <td>xmkrwnrrtes.com</td>\n",
              "      <td>DGA</td>\n",
              "    </tr>\n",
              "    <tr>\n",
              "      <th>3</th>\n",
              "      <td>cagqhss.net</td>\n",
              "      <td>DGA</td>\n",
              "    </tr>\n",
              "    <tr>\n",
              "      <th>4</th>\n",
              "      <td>vljdew.com</td>\n",
              "      <td>DGA</td>\n",
              "    </tr>\n",
              "  </tbody>\n",
              "</table>\n",
              "</div>\n",
              "    <div class=\"colab-df-buttons\">\n",
              "\n",
              "  <div class=\"colab-df-container\">\n",
              "    <button class=\"colab-df-convert\" onclick=\"convertToInteractive('df-0241d4e1-f911-4b50-8df7-4cd0ab4abb65')\"\n",
              "            title=\"Convert this dataframe to an interactive table.\"\n",
              "            style=\"display:none;\">\n",
              "\n",
              "  <svg xmlns=\"http://www.w3.org/2000/svg\" height=\"24px\" viewBox=\"0 -960 960 960\">\n",
              "    <path d=\"M120-120v-720h720v720H120Zm60-500h600v-160H180v160Zm220 220h160v-160H400v160Zm0 220h160v-160H400v160ZM180-400h160v-160H180v160Zm440 0h160v-160H620v160ZM180-180h160v-160H180v160Zm440 0h160v-160H620v160Z\"/>\n",
              "  </svg>\n",
              "    </button>\n",
              "\n",
              "  <style>\n",
              "    .colab-df-container {\n",
              "      display:flex;\n",
              "      gap: 12px;\n",
              "    }\n",
              "\n",
              "    .colab-df-convert {\n",
              "      background-color: #E8F0FE;\n",
              "      border: none;\n",
              "      border-radius: 50%;\n",
              "      cursor: pointer;\n",
              "      display: none;\n",
              "      fill: #1967D2;\n",
              "      height: 32px;\n",
              "      padding: 0 0 0 0;\n",
              "      width: 32px;\n",
              "    }\n",
              "\n",
              "    .colab-df-convert:hover {\n",
              "      background-color: #E2EBFA;\n",
              "      box-shadow: 0px 1px 2px rgba(60, 64, 67, 0.3), 0px 1px 3px 1px rgba(60, 64, 67, 0.15);\n",
              "      fill: #174EA6;\n",
              "    }\n",
              "\n",
              "    .colab-df-buttons div {\n",
              "      margin-bottom: 4px;\n",
              "    }\n",
              "\n",
              "    [theme=dark] .colab-df-convert {\n",
              "      background-color: #3B4455;\n",
              "      fill: #D2E3FC;\n",
              "    }\n",
              "\n",
              "    [theme=dark] .colab-df-convert:hover {\n",
              "      background-color: #434B5C;\n",
              "      box-shadow: 0px 1px 3px 1px rgba(0, 0, 0, 0.15);\n",
              "      filter: drop-shadow(0px 1px 2px rgba(0, 0, 0, 0.3));\n",
              "      fill: #FFFFFF;\n",
              "    }\n",
              "  </style>\n",
              "\n",
              "    <script>\n",
              "      const buttonEl =\n",
              "        document.querySelector('#df-0241d4e1-f911-4b50-8df7-4cd0ab4abb65 button.colab-df-convert');\n",
              "      buttonEl.style.display =\n",
              "        google.colab.kernel.accessAllowed ? 'block' : 'none';\n",
              "\n",
              "      async function convertToInteractive(key) {\n",
              "        const element = document.querySelector('#df-0241d4e1-f911-4b50-8df7-4cd0ab4abb65');\n",
              "        const dataTable =\n",
              "          await google.colab.kernel.invokeFunction('convertToInteractive',\n",
              "                                                    [key], {});\n",
              "        if (!dataTable) return;\n",
              "\n",
              "        const docLinkHtml = 'Like what you see? Visit the ' +\n",
              "          '<a target=\"_blank\" href=https://colab.research.google.com/notebooks/data_table.ipynb>data table notebook</a>'\n",
              "          + ' to learn more about interactive tables.';\n",
              "        element.innerHTML = '';\n",
              "        dataTable['output_type'] = 'display_data';\n",
              "        await google.colab.output.renderOutput(dataTable, element);\n",
              "        const docLink = document.createElement('div');\n",
              "        docLink.innerHTML = docLinkHtml;\n",
              "        element.appendChild(docLink);\n",
              "      }\n",
              "    </script>\n",
              "  </div>\n",
              "\n",
              "\n",
              "<div id=\"df-153b9bb8-7714-4959-a15f-f0d81df7f292\">\n",
              "  <button class=\"colab-df-quickchart\" onclick=\"quickchart('df-153b9bb8-7714-4959-a15f-f0d81df7f292')\"\n",
              "            title=\"Suggest charts.\"\n",
              "            style=\"display:none;\">\n",
              "\n",
              "<svg xmlns=\"http://www.w3.org/2000/svg\" height=\"24px\"viewBox=\"0 0 24 24\"\n",
              "     width=\"24px\">\n",
              "    <g>\n",
              "        <path d=\"M19 3H5c-1.1 0-2 .9-2 2v14c0 1.1.9 2 2 2h14c1.1 0 2-.9 2-2V5c0-1.1-.9-2-2-2zM9 17H7v-7h2v7zm4 0h-2V7h2v10zm4 0h-2v-4h2v4z\"/>\n",
              "    </g>\n",
              "</svg>\n",
              "  </button>\n",
              "\n",
              "<style>\n",
              "  .colab-df-quickchart {\n",
              "      --bg-color: #E8F0FE;\n",
              "      --fill-color: #1967D2;\n",
              "      --hover-bg-color: #E2EBFA;\n",
              "      --hover-fill-color: #174EA6;\n",
              "      --disabled-fill-color: #AAA;\n",
              "      --disabled-bg-color: #DDD;\n",
              "  }\n",
              "\n",
              "  [theme=dark] .colab-df-quickchart {\n",
              "      --bg-color: #3B4455;\n",
              "      --fill-color: #D2E3FC;\n",
              "      --hover-bg-color: #434B5C;\n",
              "      --hover-fill-color: #FFFFFF;\n",
              "      --disabled-bg-color: #3B4455;\n",
              "      --disabled-fill-color: #666;\n",
              "  }\n",
              "\n",
              "  .colab-df-quickchart {\n",
              "    background-color: var(--bg-color);\n",
              "    border: none;\n",
              "    border-radius: 50%;\n",
              "    cursor: pointer;\n",
              "    display: none;\n",
              "    fill: var(--fill-color);\n",
              "    height: 32px;\n",
              "    padding: 0;\n",
              "    width: 32px;\n",
              "  }\n",
              "\n",
              "  .colab-df-quickchart:hover {\n",
              "    background-color: var(--hover-bg-color);\n",
              "    box-shadow: 0 1px 2px rgba(60, 64, 67, 0.3), 0 1px 3px 1px rgba(60, 64, 67, 0.15);\n",
              "    fill: var(--button-hover-fill-color);\n",
              "  }\n",
              "\n",
              "  .colab-df-quickchart-complete:disabled,\n",
              "  .colab-df-quickchart-complete:disabled:hover {\n",
              "    background-color: var(--disabled-bg-color);\n",
              "    fill: var(--disabled-fill-color);\n",
              "    box-shadow: none;\n",
              "  }\n",
              "\n",
              "  .colab-df-spinner {\n",
              "    border: 2px solid var(--fill-color);\n",
              "    border-color: transparent;\n",
              "    border-bottom-color: var(--fill-color);\n",
              "    animation:\n",
              "      spin 1s steps(1) infinite;\n",
              "  }\n",
              "\n",
              "  @keyframes spin {\n",
              "    0% {\n",
              "      border-color: transparent;\n",
              "      border-bottom-color: var(--fill-color);\n",
              "      border-left-color: var(--fill-color);\n",
              "    }\n",
              "    20% {\n",
              "      border-color: transparent;\n",
              "      border-left-color: var(--fill-color);\n",
              "      border-top-color: var(--fill-color);\n",
              "    }\n",
              "    30% {\n",
              "      border-color: transparent;\n",
              "      border-left-color: var(--fill-color);\n",
              "      border-top-color: var(--fill-color);\n",
              "      border-right-color: var(--fill-color);\n",
              "    }\n",
              "    40% {\n",
              "      border-color: transparent;\n",
              "      border-right-color: var(--fill-color);\n",
              "      border-top-color: var(--fill-color);\n",
              "    }\n",
              "    60% {\n",
              "      border-color: transparent;\n",
              "      border-right-color: var(--fill-color);\n",
              "    }\n",
              "    80% {\n",
              "      border-color: transparent;\n",
              "      border-right-color: var(--fill-color);\n",
              "      border-bottom-color: var(--fill-color);\n",
              "    }\n",
              "    90% {\n",
              "      border-color: transparent;\n",
              "      border-bottom-color: var(--fill-color);\n",
              "    }\n",
              "  }\n",
              "</style>\n",
              "\n",
              "  <script>\n",
              "    async function quickchart(key) {\n",
              "      const quickchartButtonEl =\n",
              "        document.querySelector('#' + key + ' button');\n",
              "      quickchartButtonEl.disabled = true;  // To prevent multiple clicks.\n",
              "      quickchartButtonEl.classList.add('colab-df-spinner');\n",
              "      try {\n",
              "        const charts = await google.colab.kernel.invokeFunction(\n",
              "            'suggestCharts', [key], {});\n",
              "      } catch (error) {\n",
              "        console.error('Error during call to suggestCharts:', error);\n",
              "      }\n",
              "      quickchartButtonEl.classList.remove('colab-df-spinner');\n",
              "      quickchartButtonEl.classList.add('colab-df-quickchart-complete');\n",
              "    }\n",
              "    (() => {\n",
              "      let quickchartButtonEl =\n",
              "        document.querySelector('#df-153b9bb8-7714-4959-a15f-f0d81df7f292 button');\n",
              "      quickchartButtonEl.style.display =\n",
              "        google.colab.kernel.accessAllowed ? 'block' : 'none';\n",
              "    })();\n",
              "  </script>\n",
              "</div>\n",
              "    </div>\n",
              "  </div>\n"
            ]
          },
          "metadata": {},
          "execution_count": 30
        }
      ],
      "source": [
        "data = pd.read_csv('DGA_new.csv')\n",
        "data.head()"
      ]
    },
    {
      "cell_type": "code",
      "execution_count": 31,
      "metadata": {
        "id": "MKOoOsgUtszE"
      },
      "outputs": [],
      "source": [
        "df1 = data.loc[data['Family'] == \"DGA\"][0:100000]\n",
        "df2 = data.loc[data['Family'] == \"Benign\"][0:100000]\n",
        "df = pd.concat([df1,df2])"
      ]
    },
    {
      "cell_type": "code",
      "execution_count": 32,
      "metadata": {
        "colab": {
          "base_uri": "https://localhost:8080/"
        },
        "id": "zYaFPqc3ul2o",
        "outputId": "eb329849-938a-40b8-c494-77672959c9a3"
      },
      "outputs": [
        {
          "output_type": "execute_result",
          "data": {
            "text/plain": [
              "(200000, 2)"
            ]
          },
          "metadata": {},
          "execution_count": 32
        }
      ],
      "source": [
        "df.shape"
      ]
    },
    {
      "cell_type": "code",
      "execution_count": 33,
      "metadata": {
        "colab": {
          "base_uri": "https://localhost:8080/",
          "height": 175
        },
        "id": "iwtDOmSHO8H3",
        "outputId": "0efd9e9d-8d02-4d81-c4f2-9ca44b5905c6"
      },
      "outputs": [
        {
          "output_type": "execute_result",
          "data": {
            "text/plain": [
              "                Domain  Family\n",
              "count           200000  200000\n",
              "unique          200000       2\n",
              "top     jkybwgxpfr.com     DGA\n",
              "freq                 1  100000"
            ],
            "text/html": [
              "\n",
              "  <div id=\"df-c7124f94-0e15-4968-bc53-b7e4956a774e\" class=\"colab-df-container\">\n",
              "    <div>\n",
              "<style scoped>\n",
              "    .dataframe tbody tr th:only-of-type {\n",
              "        vertical-align: middle;\n",
              "    }\n",
              "\n",
              "    .dataframe tbody tr th {\n",
              "        vertical-align: top;\n",
              "    }\n",
              "\n",
              "    .dataframe thead th {\n",
              "        text-align: right;\n",
              "    }\n",
              "</style>\n",
              "<table border=\"1\" class=\"dataframe\">\n",
              "  <thead>\n",
              "    <tr style=\"text-align: right;\">\n",
              "      <th></th>\n",
              "      <th>Domain</th>\n",
              "      <th>Family</th>\n",
              "    </tr>\n",
              "  </thead>\n",
              "  <tbody>\n",
              "    <tr>\n",
              "      <th>count</th>\n",
              "      <td>200000</td>\n",
              "      <td>200000</td>\n",
              "    </tr>\n",
              "    <tr>\n",
              "      <th>unique</th>\n",
              "      <td>200000</td>\n",
              "      <td>2</td>\n",
              "    </tr>\n",
              "    <tr>\n",
              "      <th>top</th>\n",
              "      <td>jkybwgxpfr.com</td>\n",
              "      <td>DGA</td>\n",
              "    </tr>\n",
              "    <tr>\n",
              "      <th>freq</th>\n",
              "      <td>1</td>\n",
              "      <td>100000</td>\n",
              "    </tr>\n",
              "  </tbody>\n",
              "</table>\n",
              "</div>\n",
              "    <div class=\"colab-df-buttons\">\n",
              "\n",
              "  <div class=\"colab-df-container\">\n",
              "    <button class=\"colab-df-convert\" onclick=\"convertToInteractive('df-c7124f94-0e15-4968-bc53-b7e4956a774e')\"\n",
              "            title=\"Convert this dataframe to an interactive table.\"\n",
              "            style=\"display:none;\">\n",
              "\n",
              "  <svg xmlns=\"http://www.w3.org/2000/svg\" height=\"24px\" viewBox=\"0 -960 960 960\">\n",
              "    <path d=\"M120-120v-720h720v720H120Zm60-500h600v-160H180v160Zm220 220h160v-160H400v160Zm0 220h160v-160H400v160ZM180-400h160v-160H180v160Zm440 0h160v-160H620v160ZM180-180h160v-160H180v160Zm440 0h160v-160H620v160Z\"/>\n",
              "  </svg>\n",
              "    </button>\n",
              "\n",
              "  <style>\n",
              "    .colab-df-container {\n",
              "      display:flex;\n",
              "      gap: 12px;\n",
              "    }\n",
              "\n",
              "    .colab-df-convert {\n",
              "      background-color: #E8F0FE;\n",
              "      border: none;\n",
              "      border-radius: 50%;\n",
              "      cursor: pointer;\n",
              "      display: none;\n",
              "      fill: #1967D2;\n",
              "      height: 32px;\n",
              "      padding: 0 0 0 0;\n",
              "      width: 32px;\n",
              "    }\n",
              "\n",
              "    .colab-df-convert:hover {\n",
              "      background-color: #E2EBFA;\n",
              "      box-shadow: 0px 1px 2px rgba(60, 64, 67, 0.3), 0px 1px 3px 1px rgba(60, 64, 67, 0.15);\n",
              "      fill: #174EA6;\n",
              "    }\n",
              "\n",
              "    .colab-df-buttons div {\n",
              "      margin-bottom: 4px;\n",
              "    }\n",
              "\n",
              "    [theme=dark] .colab-df-convert {\n",
              "      background-color: #3B4455;\n",
              "      fill: #D2E3FC;\n",
              "    }\n",
              "\n",
              "    [theme=dark] .colab-df-convert:hover {\n",
              "      background-color: #434B5C;\n",
              "      box-shadow: 0px 1px 3px 1px rgba(0, 0, 0, 0.15);\n",
              "      filter: drop-shadow(0px 1px 2px rgba(0, 0, 0, 0.3));\n",
              "      fill: #FFFFFF;\n",
              "    }\n",
              "  </style>\n",
              "\n",
              "    <script>\n",
              "      const buttonEl =\n",
              "        document.querySelector('#df-c7124f94-0e15-4968-bc53-b7e4956a774e button.colab-df-convert');\n",
              "      buttonEl.style.display =\n",
              "        google.colab.kernel.accessAllowed ? 'block' : 'none';\n",
              "\n",
              "      async function convertToInteractive(key) {\n",
              "        const element = document.querySelector('#df-c7124f94-0e15-4968-bc53-b7e4956a774e');\n",
              "        const dataTable =\n",
              "          await google.colab.kernel.invokeFunction('convertToInteractive',\n",
              "                                                    [key], {});\n",
              "        if (!dataTable) return;\n",
              "\n",
              "        const docLinkHtml = 'Like what you see? Visit the ' +\n",
              "          '<a target=\"_blank\" href=https://colab.research.google.com/notebooks/data_table.ipynb>data table notebook</a>'\n",
              "          + ' to learn more about interactive tables.';\n",
              "        element.innerHTML = '';\n",
              "        dataTable['output_type'] = 'display_data';\n",
              "        await google.colab.output.renderOutput(dataTable, element);\n",
              "        const docLink = document.createElement('div');\n",
              "        docLink.innerHTML = docLinkHtml;\n",
              "        element.appendChild(docLink);\n",
              "      }\n",
              "    </script>\n",
              "  </div>\n",
              "\n",
              "\n",
              "<div id=\"df-3b541cd8-3d84-45fe-8daf-76c1d7586bcb\">\n",
              "  <button class=\"colab-df-quickchart\" onclick=\"quickchart('df-3b541cd8-3d84-45fe-8daf-76c1d7586bcb')\"\n",
              "            title=\"Suggest charts.\"\n",
              "            style=\"display:none;\">\n",
              "\n",
              "<svg xmlns=\"http://www.w3.org/2000/svg\" height=\"24px\"viewBox=\"0 0 24 24\"\n",
              "     width=\"24px\">\n",
              "    <g>\n",
              "        <path d=\"M19 3H5c-1.1 0-2 .9-2 2v14c0 1.1.9 2 2 2h14c1.1 0 2-.9 2-2V5c0-1.1-.9-2-2-2zM9 17H7v-7h2v7zm4 0h-2V7h2v10zm4 0h-2v-4h2v4z\"/>\n",
              "    </g>\n",
              "</svg>\n",
              "  </button>\n",
              "\n",
              "<style>\n",
              "  .colab-df-quickchart {\n",
              "      --bg-color: #E8F0FE;\n",
              "      --fill-color: #1967D2;\n",
              "      --hover-bg-color: #E2EBFA;\n",
              "      --hover-fill-color: #174EA6;\n",
              "      --disabled-fill-color: #AAA;\n",
              "      --disabled-bg-color: #DDD;\n",
              "  }\n",
              "\n",
              "  [theme=dark] .colab-df-quickchart {\n",
              "      --bg-color: #3B4455;\n",
              "      --fill-color: #D2E3FC;\n",
              "      --hover-bg-color: #434B5C;\n",
              "      --hover-fill-color: #FFFFFF;\n",
              "      --disabled-bg-color: #3B4455;\n",
              "      --disabled-fill-color: #666;\n",
              "  }\n",
              "\n",
              "  .colab-df-quickchart {\n",
              "    background-color: var(--bg-color);\n",
              "    border: none;\n",
              "    border-radius: 50%;\n",
              "    cursor: pointer;\n",
              "    display: none;\n",
              "    fill: var(--fill-color);\n",
              "    height: 32px;\n",
              "    padding: 0;\n",
              "    width: 32px;\n",
              "  }\n",
              "\n",
              "  .colab-df-quickchart:hover {\n",
              "    background-color: var(--hover-bg-color);\n",
              "    box-shadow: 0 1px 2px rgba(60, 64, 67, 0.3), 0 1px 3px 1px rgba(60, 64, 67, 0.15);\n",
              "    fill: var(--button-hover-fill-color);\n",
              "  }\n",
              "\n",
              "  .colab-df-quickchart-complete:disabled,\n",
              "  .colab-df-quickchart-complete:disabled:hover {\n",
              "    background-color: var(--disabled-bg-color);\n",
              "    fill: var(--disabled-fill-color);\n",
              "    box-shadow: none;\n",
              "  }\n",
              "\n",
              "  .colab-df-spinner {\n",
              "    border: 2px solid var(--fill-color);\n",
              "    border-color: transparent;\n",
              "    border-bottom-color: var(--fill-color);\n",
              "    animation:\n",
              "      spin 1s steps(1) infinite;\n",
              "  }\n",
              "\n",
              "  @keyframes spin {\n",
              "    0% {\n",
              "      border-color: transparent;\n",
              "      border-bottom-color: var(--fill-color);\n",
              "      border-left-color: var(--fill-color);\n",
              "    }\n",
              "    20% {\n",
              "      border-color: transparent;\n",
              "      border-left-color: var(--fill-color);\n",
              "      border-top-color: var(--fill-color);\n",
              "    }\n",
              "    30% {\n",
              "      border-color: transparent;\n",
              "      border-left-color: var(--fill-color);\n",
              "      border-top-color: var(--fill-color);\n",
              "      border-right-color: var(--fill-color);\n",
              "    }\n",
              "    40% {\n",
              "      border-color: transparent;\n",
              "      border-right-color: var(--fill-color);\n",
              "      border-top-color: var(--fill-color);\n",
              "    }\n",
              "    60% {\n",
              "      border-color: transparent;\n",
              "      border-right-color: var(--fill-color);\n",
              "    }\n",
              "    80% {\n",
              "      border-color: transparent;\n",
              "      border-right-color: var(--fill-color);\n",
              "      border-bottom-color: var(--fill-color);\n",
              "    }\n",
              "    90% {\n",
              "      border-color: transparent;\n",
              "      border-bottom-color: var(--fill-color);\n",
              "    }\n",
              "  }\n",
              "</style>\n",
              "\n",
              "  <script>\n",
              "    async function quickchart(key) {\n",
              "      const quickchartButtonEl =\n",
              "        document.querySelector('#' + key + ' button');\n",
              "      quickchartButtonEl.disabled = true;  // To prevent multiple clicks.\n",
              "      quickchartButtonEl.classList.add('colab-df-spinner');\n",
              "      try {\n",
              "        const charts = await google.colab.kernel.invokeFunction(\n",
              "            'suggestCharts', [key], {});\n",
              "      } catch (error) {\n",
              "        console.error('Error during call to suggestCharts:', error);\n",
              "      }\n",
              "      quickchartButtonEl.classList.remove('colab-df-spinner');\n",
              "      quickchartButtonEl.classList.add('colab-df-quickchart-complete');\n",
              "    }\n",
              "    (() => {\n",
              "      let quickchartButtonEl =\n",
              "        document.querySelector('#df-3b541cd8-3d84-45fe-8daf-76c1d7586bcb button');\n",
              "      quickchartButtonEl.style.display =\n",
              "        google.colab.kernel.accessAllowed ? 'block' : 'none';\n",
              "    })();\n",
              "  </script>\n",
              "</div>\n",
              "    </div>\n",
              "  </div>\n"
            ]
          },
          "metadata": {},
          "execution_count": 33
        }
      ],
      "source": [
        "df.describe()"
      ]
    },
    {
      "cell_type": "code",
      "execution_count": 34,
      "metadata": {
        "colab": {
          "base_uri": "https://localhost:8080/"
        },
        "id": "ltuY0LxYO86k",
        "outputId": "3d7e5d90-3a33-46a3-d6d8-e597082c3878"
      },
      "outputs": [
        {
          "output_type": "stream",
          "name": "stdout",
          "text": [
            "<class 'pandas.core.frame.DataFrame'>\n",
            "Int64Index: 200000 entries, 0 to 1399620\n",
            "Data columns (total 2 columns):\n",
            " #   Column  Non-Null Count   Dtype \n",
            "---  ------  --------------   ----- \n",
            " 0   Domain  200000 non-null  object\n",
            " 1   Family  200000 non-null  object\n",
            "dtypes: object(2)\n",
            "memory usage: 4.6+ MB\n"
          ]
        }
      ],
      "source": [
        "df.info()"
      ]
    },
    {
      "cell_type": "markdown",
      "metadata": {
        "id": "nvYO6HJoPAco"
      },
      "source": [
        "# **Data Visualization**"
      ]
    },
    {
      "cell_type": "code",
      "execution_count": 35,
      "metadata": {
        "colab": {
          "base_uri": "https://localhost:8080/",
          "height": 112
        },
        "id": "KMsaJjQJPAF7",
        "outputId": "4e3e2faa-bf4f-4a8b-af9d-361715bf2ff6"
      },
      "outputs": [
        {
          "output_type": "execute_result",
          "data": {
            "text/plain": [
              "        Family\n",
              "DGA     100000\n",
              "Benign  100000"
            ],
            "text/html": [
              "\n",
              "  <div id=\"df-5465238a-5f72-498d-ade5-8343a9e16aad\" class=\"colab-df-container\">\n",
              "    <div>\n",
              "<style scoped>\n",
              "    .dataframe tbody tr th:only-of-type {\n",
              "        vertical-align: middle;\n",
              "    }\n",
              "\n",
              "    .dataframe tbody tr th {\n",
              "        vertical-align: top;\n",
              "    }\n",
              "\n",
              "    .dataframe thead th {\n",
              "        text-align: right;\n",
              "    }\n",
              "</style>\n",
              "<table border=\"1\" class=\"dataframe\">\n",
              "  <thead>\n",
              "    <tr style=\"text-align: right;\">\n",
              "      <th></th>\n",
              "      <th>Family</th>\n",
              "    </tr>\n",
              "  </thead>\n",
              "  <tbody>\n",
              "    <tr>\n",
              "      <th>DGA</th>\n",
              "      <td>100000</td>\n",
              "    </tr>\n",
              "    <tr>\n",
              "      <th>Benign</th>\n",
              "      <td>100000</td>\n",
              "    </tr>\n",
              "  </tbody>\n",
              "</table>\n",
              "</div>\n",
              "    <div class=\"colab-df-buttons\">\n",
              "\n",
              "  <div class=\"colab-df-container\">\n",
              "    <button class=\"colab-df-convert\" onclick=\"convertToInteractive('df-5465238a-5f72-498d-ade5-8343a9e16aad')\"\n",
              "            title=\"Convert this dataframe to an interactive table.\"\n",
              "            style=\"display:none;\">\n",
              "\n",
              "  <svg xmlns=\"http://www.w3.org/2000/svg\" height=\"24px\" viewBox=\"0 -960 960 960\">\n",
              "    <path d=\"M120-120v-720h720v720H120Zm60-500h600v-160H180v160Zm220 220h160v-160H400v160Zm0 220h160v-160H400v160ZM180-400h160v-160H180v160Zm440 0h160v-160H620v160ZM180-180h160v-160H180v160Zm440 0h160v-160H620v160Z\"/>\n",
              "  </svg>\n",
              "    </button>\n",
              "\n",
              "  <style>\n",
              "    .colab-df-container {\n",
              "      display:flex;\n",
              "      gap: 12px;\n",
              "    }\n",
              "\n",
              "    .colab-df-convert {\n",
              "      background-color: #E8F0FE;\n",
              "      border: none;\n",
              "      border-radius: 50%;\n",
              "      cursor: pointer;\n",
              "      display: none;\n",
              "      fill: #1967D2;\n",
              "      height: 32px;\n",
              "      padding: 0 0 0 0;\n",
              "      width: 32px;\n",
              "    }\n",
              "\n",
              "    .colab-df-convert:hover {\n",
              "      background-color: #E2EBFA;\n",
              "      box-shadow: 0px 1px 2px rgba(60, 64, 67, 0.3), 0px 1px 3px 1px rgba(60, 64, 67, 0.15);\n",
              "      fill: #174EA6;\n",
              "    }\n",
              "\n",
              "    .colab-df-buttons div {\n",
              "      margin-bottom: 4px;\n",
              "    }\n",
              "\n",
              "    [theme=dark] .colab-df-convert {\n",
              "      background-color: #3B4455;\n",
              "      fill: #D2E3FC;\n",
              "    }\n",
              "\n",
              "    [theme=dark] .colab-df-convert:hover {\n",
              "      background-color: #434B5C;\n",
              "      box-shadow: 0px 1px 3px 1px rgba(0, 0, 0, 0.15);\n",
              "      filter: drop-shadow(0px 1px 2px rgba(0, 0, 0, 0.3));\n",
              "      fill: #FFFFFF;\n",
              "    }\n",
              "  </style>\n",
              "\n",
              "    <script>\n",
              "      const buttonEl =\n",
              "        document.querySelector('#df-5465238a-5f72-498d-ade5-8343a9e16aad button.colab-df-convert');\n",
              "      buttonEl.style.display =\n",
              "        google.colab.kernel.accessAllowed ? 'block' : 'none';\n",
              "\n",
              "      async function convertToInteractive(key) {\n",
              "        const element = document.querySelector('#df-5465238a-5f72-498d-ade5-8343a9e16aad');\n",
              "        const dataTable =\n",
              "          await google.colab.kernel.invokeFunction('convertToInteractive',\n",
              "                                                    [key], {});\n",
              "        if (!dataTable) return;\n",
              "\n",
              "        const docLinkHtml = 'Like what you see? Visit the ' +\n",
              "          '<a target=\"_blank\" href=https://colab.research.google.com/notebooks/data_table.ipynb>data table notebook</a>'\n",
              "          + ' to learn more about interactive tables.';\n",
              "        element.innerHTML = '';\n",
              "        dataTable['output_type'] = 'display_data';\n",
              "        await google.colab.output.renderOutput(dataTable, element);\n",
              "        const docLink = document.createElement('div');\n",
              "        docLink.innerHTML = docLinkHtml;\n",
              "        element.appendChild(docLink);\n",
              "      }\n",
              "    </script>\n",
              "  </div>\n",
              "\n",
              "\n",
              "<div id=\"df-3a5d50a2-3732-433b-97c1-c0d0f34d436b\">\n",
              "  <button class=\"colab-df-quickchart\" onclick=\"quickchart('df-3a5d50a2-3732-433b-97c1-c0d0f34d436b')\"\n",
              "            title=\"Suggest charts.\"\n",
              "            style=\"display:none;\">\n",
              "\n",
              "<svg xmlns=\"http://www.w3.org/2000/svg\" height=\"24px\"viewBox=\"0 0 24 24\"\n",
              "     width=\"24px\">\n",
              "    <g>\n",
              "        <path d=\"M19 3H5c-1.1 0-2 .9-2 2v14c0 1.1.9 2 2 2h14c1.1 0 2-.9 2-2V5c0-1.1-.9-2-2-2zM9 17H7v-7h2v7zm4 0h-2V7h2v10zm4 0h-2v-4h2v4z\"/>\n",
              "    </g>\n",
              "</svg>\n",
              "  </button>\n",
              "\n",
              "<style>\n",
              "  .colab-df-quickchart {\n",
              "      --bg-color: #E8F0FE;\n",
              "      --fill-color: #1967D2;\n",
              "      --hover-bg-color: #E2EBFA;\n",
              "      --hover-fill-color: #174EA6;\n",
              "      --disabled-fill-color: #AAA;\n",
              "      --disabled-bg-color: #DDD;\n",
              "  }\n",
              "\n",
              "  [theme=dark] .colab-df-quickchart {\n",
              "      --bg-color: #3B4455;\n",
              "      --fill-color: #D2E3FC;\n",
              "      --hover-bg-color: #434B5C;\n",
              "      --hover-fill-color: #FFFFFF;\n",
              "      --disabled-bg-color: #3B4455;\n",
              "      --disabled-fill-color: #666;\n",
              "  }\n",
              "\n",
              "  .colab-df-quickchart {\n",
              "    background-color: var(--bg-color);\n",
              "    border: none;\n",
              "    border-radius: 50%;\n",
              "    cursor: pointer;\n",
              "    display: none;\n",
              "    fill: var(--fill-color);\n",
              "    height: 32px;\n",
              "    padding: 0;\n",
              "    width: 32px;\n",
              "  }\n",
              "\n",
              "  .colab-df-quickchart:hover {\n",
              "    background-color: var(--hover-bg-color);\n",
              "    box-shadow: 0 1px 2px rgba(60, 64, 67, 0.3), 0 1px 3px 1px rgba(60, 64, 67, 0.15);\n",
              "    fill: var(--button-hover-fill-color);\n",
              "  }\n",
              "\n",
              "  .colab-df-quickchart-complete:disabled,\n",
              "  .colab-df-quickchart-complete:disabled:hover {\n",
              "    background-color: var(--disabled-bg-color);\n",
              "    fill: var(--disabled-fill-color);\n",
              "    box-shadow: none;\n",
              "  }\n",
              "\n",
              "  .colab-df-spinner {\n",
              "    border: 2px solid var(--fill-color);\n",
              "    border-color: transparent;\n",
              "    border-bottom-color: var(--fill-color);\n",
              "    animation:\n",
              "      spin 1s steps(1) infinite;\n",
              "  }\n",
              "\n",
              "  @keyframes spin {\n",
              "    0% {\n",
              "      border-color: transparent;\n",
              "      border-bottom-color: var(--fill-color);\n",
              "      border-left-color: var(--fill-color);\n",
              "    }\n",
              "    20% {\n",
              "      border-color: transparent;\n",
              "      border-left-color: var(--fill-color);\n",
              "      border-top-color: var(--fill-color);\n",
              "    }\n",
              "    30% {\n",
              "      border-color: transparent;\n",
              "      border-left-color: var(--fill-color);\n",
              "      border-top-color: var(--fill-color);\n",
              "      border-right-color: var(--fill-color);\n",
              "    }\n",
              "    40% {\n",
              "      border-color: transparent;\n",
              "      border-right-color: var(--fill-color);\n",
              "      border-top-color: var(--fill-color);\n",
              "    }\n",
              "    60% {\n",
              "      border-color: transparent;\n",
              "      border-right-color: var(--fill-color);\n",
              "    }\n",
              "    80% {\n",
              "      border-color: transparent;\n",
              "      border-right-color: var(--fill-color);\n",
              "      border-bottom-color: var(--fill-color);\n",
              "    }\n",
              "    90% {\n",
              "      border-color: transparent;\n",
              "      border-bottom-color: var(--fill-color);\n",
              "    }\n",
              "  }\n",
              "</style>\n",
              "\n",
              "  <script>\n",
              "    async function quickchart(key) {\n",
              "      const quickchartButtonEl =\n",
              "        document.querySelector('#' + key + ' button');\n",
              "      quickchartButtonEl.disabled = true;  // To prevent multiple clicks.\n",
              "      quickchartButtonEl.classList.add('colab-df-spinner');\n",
              "      try {\n",
              "        const charts = await google.colab.kernel.invokeFunction(\n",
              "            'suggestCharts', [key], {});\n",
              "      } catch (error) {\n",
              "        console.error('Error during call to suggestCharts:', error);\n",
              "      }\n",
              "      quickchartButtonEl.classList.remove('colab-df-spinner');\n",
              "      quickchartButtonEl.classList.add('colab-df-quickchart-complete');\n",
              "    }\n",
              "    (() => {\n",
              "      let quickchartButtonEl =\n",
              "        document.querySelector('#df-3a5d50a2-3732-433b-97c1-c0d0f34d436b button');\n",
              "      quickchartButtonEl.style.display =\n",
              "        google.colab.kernel.accessAllowed ? 'block' : 'none';\n",
              "    })();\n",
              "  </script>\n",
              "</div>\n",
              "    </div>\n",
              "  </div>\n"
            ]
          },
          "metadata": {},
          "execution_count": 35
        }
      ],
      "source": [
        "benign_count = df['Family'].value_counts()\n",
        "pd.DataFrame(benign_count)"
      ]
    },
    {
      "cell_type": "code",
      "execution_count": 36,
      "metadata": {
        "colab": {
          "base_uri": "https://localhost:8080/",
          "height": 653
        },
        "id": "lEtnHpTaPG5B",
        "outputId": "c6b8c223-78f2-46f2-95fb-7cba635ebe18"
      },
      "outputs": [
        {
          "output_type": "display_data",
          "data": {
            "text/plain": [
              "<Figure size 1500x800 with 1 Axes>"
            ],
            "image/png": "[encoded data removed]"
          },
          "metadata": {}
        }
      ],
      "source": [
        "plt.figure(figsize=(15,8));\n",
        "plt.pie(benign_count.values, labels=benign_count.keys(), autopct='%.0f%%',colors=['cornflowerblue', 'gold'],startangle = 90, shadow = True,explode=(0.1,0.1))\n",
        "plt.show()"
      ]
    },
    {
      "cell_type": "markdown",
      "metadata": {
        "id": "IUZzO417Pli8"
      },
      "source": [
        "# **Model Development**"
      ]
    },
    {
      "cell_type": "code",
      "execution_count": 37,
      "metadata": {
        "colab": {
          "base_uri": "https://localhost:8080/"
        },
        "id": "NWqTkQXLPV7q",
        "outputId": "603b6295-a22d-4525-ad78-4f0efd04f2d4"
      },
      "outputs": [
        {
          "output_type": "stream",
          "name": "stdout",
          "text": [
            "Requirement already satisfied: pip in /usr/local/lib/python3.10/dist-packages (23.3)\n",
            "\u001b[33mWARNING: Running pip as the 'root' user can result in broken permissions and conflicting behaviour with the system package manager. It is recommended to use a virtual environment instead: https://pip.pypa.io/warnings/venv\u001b[0m\u001b[33m\n",
            "\u001b[0m"
          ]
        }
      ],
      "source": [
        "!pip install --upgrade pip"
      ]
    },
    {
      "cell_type": "markdown",
      "metadata": {
        "id": "8k_fBXazPV7q"
      },
      "source": [
        "import keras as tf"
      ]
    },
    {
      "cell_type": "code",
      "execution_count": 38,
      "metadata": {
        "id": "ks6HAo8xPV7q"
      },
      "outputs": [],
      "source": [
        "\n",
        "import keras as tf"
      ]
    },
    {
      "cell_type": "code",
      "execution_count": 39,
      "metadata": {
        "colab": {
          "base_uri": "https://localhost:8080/"
        },
        "id": "-JUWWYryPpnj",
        "outputId": "1deddaad-0e72-45c7-dc25-2c7e161b1bb0"
      },
      "outputs": [
        {
          "output_type": "stream",
          "name": "stdout",
          "text": [
            "Requirement already satisfied: Keras-Preprocessing in /usr/local/lib/python3.10/dist-packages (1.1.2)\n",
            "Requirement already satisfied: numpy>=1.9.1 in /usr/local/lib/python3.10/dist-packages (from Keras-Preprocessing) (1.23.5)\n",
            "Requirement already satisfied: six>=1.9.0 in /usr/local/lib/python3.10/dist-packages (from Keras-Preprocessing) (1.16.0)\n",
            "\u001b[33mWARNING: Running pip as the 'root' user can result in broken permissions and conflicting behaviour with the system package manager. It is recommended to use a virtual environment instead: https://pip.pypa.io/warnings/venv\u001b[0m\u001b[33m\n",
            "\u001b[0m"
          ]
        }
      ],
      "source": [
        "# Import Libraries to Model Development\n",
        "\n",
        "!pip install Keras-Preprocessing\n",
        "\n",
        "from keras.preprocessing.text import Tokenizer\n",
        "from keras_preprocessing.sequence import pad_sequences\n",
        "from keras.layers import Embedding, LSTM, Dense, Dropout\n",
        "from keras.callbacks import EarlyStopping\n",
        "from keras.models import Sequential\n",
        "from sklearn.preprocessing import LabelEncoder\n",
        "from sklearn.model_selection import train_test_split\n",
        "\n",
        "import tensorflow as tf\n",
        "from tensorflow import keras\n",
        "from keras.callbacks import ModelCheckpoint"
      ]
    },
    {
      "cell_type": "code",
      "execution_count": 40,
      "metadata": {
        "id": "IzpLHtl6VWSK"
      },
      "outputs": [],
      "source": [
        "# Data and Target\n",
        "X = df['Domain']\n",
        "y = df['Family']"
      ]
    },
    {
      "cell_type": "code",
      "execution_count": 41,
      "metadata": {
        "colab": {
          "base_uri": "https://localhost:8080/"
        },
        "id": "9OgOuNcbiwsa",
        "outputId": "a99d34f7-7e7d-4123-963b-7a4b3e2030a7"
      },
      "outputs": [
        {
          "output_type": "stream",
          "name": "stderr",
          "text": [
            "/usr/local/lib/python3.10/dist-packages/sklearn/preprocessing/_encoders.py:868: FutureWarning: `sparse` was renamed to `sparse_output` in version 1.2 and will be removed in 1.4. `sparse_output` is ignored unless you leave `sparse` to its default value.\n",
            "  warnings.warn(\n"
          ]
        }
      ],
      "source": [
        "# one-hot-encoder\n",
        "from sklearn.preprocessing import OneHotEncoder\n",
        "y2 = np.array(y).reshape(-1, 1)\n",
        "\n",
        "hot_encode = OneHotEncoder(sparse=False)\n",
        "hot_encode = hot_encode.fit(y2)\n",
        "y_new = hot_encode.transform(y2)"
      ]
    },
    {
      "cell_type": "code",
      "execution_count": 42,
      "metadata": {
        "colab": {
          "base_uri": "https://localhost:8080/"
        },
        "id": "moOk6bMVptNS",
        "outputId": "08707ae7-a707-4f12-b93a-25088a723c52"
      },
      "outputs": [
        {
          "output_type": "execute_result",
          "data": {
            "text/plain": [
              "(200000, 2)"
            ]
          },
          "metadata": {},
          "execution_count": 42
        }
      ],
      "source": [
        "y_new.shape"
      ]
    },
    {
      "cell_type": "code",
      "execution_count": 43,
      "metadata": {
        "id": "D2Z-LnFJcsB2"
      },
      "outputs": [],
      "source": [
        "X_train, X_test, y_train, y_test = train_test_split(X, y_new, test_size=0.2, random_state=RANDOM_STATE)"
      ]
    },
    {
      "cell_type": "code",
      "execution_count": 44,
      "metadata": {
        "colab": {
          "base_uri": "https://localhost:8080/"
        },
        "id": "utFHZo5yh1QP",
        "outputId": "ca587b5e-d758-4f67-d4a3-93c30c6c9f9f"
      },
      "outputs": [
        {
          "output_type": "stream",
          "name": "stdout",
          "text": [
            "(160000,)\n",
            "(160000, 2)\n"
          ]
        }
      ],
      "source": [
        "print(X_train.shape)\n",
        "print(y_train.shape)"
      ]
    },
    {
      "cell_type": "code",
      "execution_count": 45,
      "metadata": {
        "id": "zzNoyDf1Tqgj"
      },
      "outputs": [],
      "source": [
        "# Tokenizer\n",
        "tokenizer = Tokenizer(char_level=True)\n",
        "tokenizer.fit_on_texts(X_train)"
      ]
    },
    {
      "cell_type": "code",
      "execution_count": 46,
      "metadata": {
        "id": "20wUCM4zTscc"
      },
      "outputs": [],
      "source": [
        "# create Data\n",
        "X_train = tokenizer.texts_to_sequences(X_train)\n",
        "X_test  = tokenizer.texts_to_sequences(X_test)\n",
        "\n",
        "max_length = 20\n",
        "X_train = pad_sequences(X_train, maxlen=max_length, padding='post')\n",
        "X_test  = pad_sequences(X_test, maxlen=max_length, padding='post')"
      ]
    },
    {
      "cell_type": "code",
      "execution_count": 47,
      "metadata": {
        "colab": {
          "base_uri": "https://localhost:8080/"
        },
        "id": "Ar4Gs0qVT4vr",
        "outputId": "501e082f-2525-4f29-d6b1-ffa1533afc3d"
      },
      "outputs": [
        {
          "output_type": "stream",
          "name": "stdout",
          "text": [
            "[[19  5 27 24  4 18  5 17 18 10 27  6 12 26  8 16  1  2 11  0]\n",
            " [ 9 15 12  3 11  8  9  3  4 10  5 14  1  4  3  6  0  0  0  0]\n",
            " [ 3 17  5 14 12  2 13 10 12  1  5 22  5 13  7  9  1  7  2  8]\n",
            " [15 12  3 13  1 10  7 19 12  5  1 18  2 17  2 24  1  4  3  6]]\n",
            "[[0. 1.]\n",
            " [1. 0.]\n",
            " [1. 0.]\n",
            " [1. 0.]]\n"
          ]
        }
      ],
      "source": [
        "# Lets see how data after tolenization\n",
        "print(X_train[1:5])\n",
        "print(y_train[1:5])"
      ]
    },
    {
      "cell_type": "markdown",
      "metadata": {
        "id": "u38QK4BnUlgn"
      },
      "source": [
        "Callbacks"
      ]
    },
    {
      "cell_type": "code",
      "execution_count": 48,
      "metadata": {
        "id": "RJwEzk33UtdH"
      },
      "outputs": [],
      "source": [
        "# Tensorboard callback\n",
        "tensor_board = tf.keras.callbacks.TensorBoard(log_dir=\"./logs\")\n",
        "\n",
        "# Early Stopping\n",
        "early_stopping = EarlyStopping(monitor='val_loss', patience=10)\n",
        "\n",
        "# Callabck to save Best model\n",
        "save_best_model_checkpoint = ModelCheckpoint('models_binary/model-{epoch:03d}.h5',monitor='val_loss',save_best_only=True,mode='auto')"
      ]
    },
    {
      "cell_type": "markdown",
      "metadata": {
        "id": "MZx0nRgGUx9g"
      },
      "source": [
        "## **Build Model**\n",
        "LSTM model"
      ]
    },
    {
      "cell_type": "code",
      "execution_count": 49,
      "metadata": {
        "colab": {
          "base_uri": "https://localhost:8080/"
        },
        "id": "OIAhWIu7i8ua",
        "outputId": "e162b130-ba72-4563-a104-359856e7bc9c"
      },
      "outputs": [
        {
          "output_type": "stream",
          "name": "stderr",
          "text": [
            "WARNING:tensorflow:Layer lstm_1 will not use cuDNN kernels since it doesn't meet the criteria. It will use a generic GPU kernel as fallback when running on GPU.\n"
          ]
        },
        {
          "output_type": "stream",
          "name": "stdout",
          "text": [
            "Model: \"sequential_1\"\n",
            "_________________________________________________________________\n",
            " Layer (type)                Output Shape              Param #   \n",
            "=================================================================\n",
            " embedding_1 (Embedding)     (None, 20, 128)           4992      \n",
            "                                                                 \n",
            " lstm_1 (LSTM)               (None, 128)               131584    \n",
            "                                                                 \n",
            " dense_1 (Dense)             (None, 2)                 258       \n",
            "                                                                 \n",
            "=================================================================\n",
            "Total params: 136834 (534.51 KB)\n",
            "Trainable params: 136834 (534.51 KB)\n",
            "Non-trainable params: 0 (0.00 Byte)\n",
            "_________________________________________________________________\n"
          ]
        }
      ],
      "source": [
        "model = Sequential()\n",
        "model.add(Embedding(input_dim = len(tokenizer.word_index)+1, output_dim=128, input_length = max_length))\n",
        "model.add(LSTM(units = 128, dropout=0.2, recurrent_dropout=0.2))\n",
        "model.add(Dense(units = len(benign_count), activation='softmax'))\n",
        "\n",
        "model.compile(loss='categorical_crossentropy', optimizer='adam', metrics=['accuracy'])\n",
        "model.summary()"
      ]
    },
    {
      "cell_type": "code",
      "execution_count": 50,
      "metadata": {
        "colab": {
          "base_uri": "https://localhost:8080/"
        },
        "id": "QGMC_7LwjCAb",
        "outputId": "0acb1e96-4586-417a-bd53-bcfc26810322"
      },
      "outputs": [
        {
          "output_type": "stream",
          "name": "stdout",
          "text": [
            "Epoch 1/50\n",
            "16/16 [==============================] - ETA: 0s - loss: 0.6077 - accuracy: 0.7720"
          ]
        },
        {
          "output_type": "stream",
          "name": "stderr",
          "text": [
            "/usr/local/lib/python3.10/dist-packages/keras/src/engine/training.py:3000: UserWarning: You are saving your model as an HDF5 file via `model.save()`. This file format is considered legacy. We recommend using instead the native Keras format, e.g. `model.save('my_model.keras')`.\n",
            "  saving_api.save_model(\n"
          ]
        },
        {
          "output_type": "stream",
          "name": "stdout",
          "text": [
            "\b\b\b\b\b\b\b\b\b\b\b\b\b\b\b\b\b\b\b\b\b\b\b\b\b\b\b\b\b\b\b\b\b\b\b\b\b\b\b\b\b\b\b\b\b\b\b\b\b\b\b\b\b\b\b\b\b\b\b\b\b\b\b\b\b\b\b\b\b\b\b\b\b\b\b\b\b\b\b\b\b\b\r16/16 [==============================] - 13s 288ms/step - loss: 0.6077 - accuracy: 0.7720 - val_loss: 0.3503 - val_accuracy: 0.8486\n",
            "Epoch 2/50\n",
            "16/16 [==============================] - 3s 159ms/step - loss: 0.2470 - accuracy: 0.9017 - val_loss: 0.1665 - val_accuracy: 0.9292\n",
            "Epoch 3/50\n",
            "16/16 [==============================] - 3s 160ms/step - loss: 0.1476 - accuracy: 0.9355 - val_loss: 0.1289 - val_accuracy: 0.9415\n",
            "Epoch 4/50\n",
            "16/16 [==============================] - 2s 157ms/step - loss: 0.1266 - accuracy: 0.9428 - val_loss: 0.1126 - val_accuracy: 0.9513\n",
            "Epoch 5/50\n",
            "16/16 [==============================] - 2s 155ms/step - loss: 0.1119 - accuracy: 0.9511 - val_loss: 0.0985 - val_accuracy: 0.9587\n",
            "Epoch 6/50\n",
            "16/16 [==============================] - 4s 248ms/step - loss: 0.1001 - accuracy: 0.9567 - val_loss: 0.0920 - val_accuracy: 0.9612\n",
            "Epoch 7/50\n",
            "16/16 [==============================] - 3s 163ms/step - loss: 0.0937 - accuracy: 0.9593 - val_loss: 0.0854 - val_accuracy: 0.9646\n",
            "Epoch 8/50\n",
            "16/16 [==============================] - 3s 167ms/step - loss: 0.0894 - accuracy: 0.9611 - val_loss: 0.0821 - val_accuracy: 0.9651\n",
            "Epoch 9/50\n",
            "16/16 [==============================] - 3s 163ms/step - loss: 0.0863 - accuracy: 0.9626 - val_loss: 0.0794 - val_accuracy: 0.9672\n",
            "Epoch 10/50\n",
            "16/16 [==============================] - 2s 155ms/step - loss: 0.0835 - accuracy: 0.9645 - val_loss: 0.0760 - val_accuracy: 0.9688\n",
            "Epoch 11/50\n",
            "16/16 [==============================] - 4s 256ms/step - loss: 0.0796 - accuracy: 0.9659 - val_loss: 0.0735 - val_accuracy: 0.9696\n",
            "Epoch 12/50\n",
            "16/16 [==============================] - 3s 177ms/step - loss: 0.0769 - accuracy: 0.9679 - val_loss: 0.0706 - val_accuracy: 0.9722\n",
            "Epoch 13/50\n",
            "16/16 [==============================] - 2s 157ms/step - loss: 0.0746 - accuracy: 0.9689 - val_loss: 0.0680 - val_accuracy: 0.9728\n",
            "Epoch 14/50\n",
            "16/16 [==============================] - 3s 160ms/step - loss: 0.0712 - accuracy: 0.9710 - val_loss: 0.0649 - val_accuracy: 0.9748\n",
            "Epoch 15/50\n",
            "16/16 [==============================] - 3s 163ms/step - loss: 0.0688 - accuracy: 0.9722 - val_loss: 0.0630 - val_accuracy: 0.9762\n",
            "Epoch 16/50\n",
            "16/16 [==============================] - 4s 243ms/step - loss: 0.0670 - accuracy: 0.9726 - val_loss: 0.0622 - val_accuracy: 0.9755\n",
            "Epoch 17/50\n",
            "16/16 [==============================] - 3s 198ms/step - loss: 0.0651 - accuracy: 0.9737 - val_loss: 0.0589 - val_accuracy: 0.9779\n",
            "Epoch 18/50\n",
            "16/16 [==============================] - 3s 164ms/step - loss: 0.0627 - accuracy: 0.9751 - val_loss: 0.0577 - val_accuracy: 0.9778\n",
            "Epoch 19/50\n",
            "16/16 [==============================] - 3s 165ms/step - loss: 0.0623 - accuracy: 0.9747 - val_loss: 0.0562 - val_accuracy: 0.9794\n",
            "Epoch 20/50\n",
            "16/16 [==============================] - 2s 142ms/step - loss: 0.0604 - accuracy: 0.9760 - val_loss: 0.0563 - val_accuracy: 0.9777\n",
            "Epoch 21/50\n",
            "16/16 [==============================] - 4s 230ms/step - loss: 0.0581 - accuracy: 0.9767 - val_loss: 0.0546 - val_accuracy: 0.9793\n",
            "Epoch 22/50\n",
            "16/16 [==============================] - 4s 263ms/step - loss: 0.0570 - accuracy: 0.9771 - val_loss: 0.0526 - val_accuracy: 0.9795\n",
            "Epoch 23/50\n",
            "16/16 [==============================] - 3s 195ms/step - loss: 0.0561 - accuracy: 0.9779 - val_loss: 0.0507 - val_accuracy: 0.9808\n",
            "Epoch 24/50\n",
            "16/16 [==============================] - 2s 143ms/step - loss: 0.0549 - accuracy: 0.9781 - val_loss: 0.0527 - val_accuracy: 0.9797\n",
            "Epoch 25/50\n",
            "16/16 [==============================] - 3s 162ms/step - loss: 0.0549 - accuracy: 0.9783 - val_loss: 0.0502 - val_accuracy: 0.9804\n",
            "Epoch 26/50\n",
            "16/16 [==============================] - 3s 170ms/step - loss: 0.0534 - accuracy: 0.9791 - val_loss: 0.0495 - val_accuracy: 0.9808\n",
            "Epoch 27/50\n",
            "16/16 [==============================] - 4s 234ms/step - loss: 0.0537 - accuracy: 0.9785 - val_loss: 0.0511 - val_accuracy: 0.9803\n",
            "Epoch 28/50\n",
            "16/16 [==============================] - 3s 174ms/step - loss: 0.0524 - accuracy: 0.9793 - val_loss: 0.0488 - val_accuracy: 0.9814\n",
            "Epoch 29/50\n",
            "16/16 [==============================] - 3s 162ms/step - loss: 0.0513 - accuracy: 0.9797 - val_loss: 0.0480 - val_accuracy: 0.9815\n",
            "Epoch 30/50\n",
            "16/16 [==============================] - 2s 144ms/step - loss: 0.0515 - accuracy: 0.9794 - val_loss: 0.0478 - val_accuracy: 0.9816\n",
            "Epoch 31/50\n",
            "16/16 [==============================] - 2s 144ms/step - loss: 0.0506 - accuracy: 0.9802 - val_loss: 0.0483 - val_accuracy: 0.9816\n",
            "Epoch 32/50\n",
            "16/16 [==============================] - 3s 211ms/step - loss: 0.0498 - accuracy: 0.9804 - val_loss: 0.0472 - val_accuracy: 0.9821\n",
            "Epoch 33/50\n",
            "16/16 [==============================] - 3s 206ms/step - loss: 0.0492 - accuracy: 0.9803 - val_loss: 0.0481 - val_accuracy: 0.9810\n",
            "Epoch 34/50\n",
            "16/16 [==============================] - 3s 176ms/step - loss: 0.0491 - accuracy: 0.9805 - val_loss: 0.0483 - val_accuracy: 0.9816\n",
            "Epoch 35/50\n",
            "16/16 [==============================] - 2s 139ms/step - loss: 0.0497 - accuracy: 0.9805 - val_loss: 0.0476 - val_accuracy: 0.9815\n",
            "Epoch 36/50\n",
            "16/16 [==============================] - 3s 160ms/step - loss: 0.0484 - accuracy: 0.9806 - val_loss: 0.0455 - val_accuracy: 0.9821\n",
            "Epoch 37/50\n",
            "16/16 [==============================] - 3s 169ms/step - loss: 0.0469 - accuracy: 0.9809 - val_loss: 0.0453 - val_accuracy: 0.9825\n",
            "Epoch 38/50\n",
            "16/16 [==============================] - 4s 254ms/step - loss: 0.0465 - accuracy: 0.9815 - val_loss: 0.0447 - val_accuracy: 0.9829\n",
            "Epoch 39/50\n",
            "16/16 [==============================] - 2s 142ms/step - loss: 0.0464 - accuracy: 0.9817 - val_loss: 0.0448 - val_accuracy: 0.9829\n",
            "Epoch 40/50\n",
            "16/16 [==============================] - 2s 143ms/step - loss: 0.0462 - accuracy: 0.9814 - val_loss: 0.0439 - val_accuracy: 0.9833\n",
            "Epoch 41/50\n",
            "16/16 [==============================] - 2s 140ms/step - loss: 0.0450 - accuracy: 0.9821 - val_loss: 0.0440 - val_accuracy: 0.9828\n",
            "Epoch 42/50\n",
            "16/16 [==============================] - 2s 144ms/step - loss: 0.0454 - accuracy: 0.9819 - val_loss: 0.0446 - val_accuracy: 0.9833\n",
            "Epoch 43/50\n",
            "16/16 [==============================] - 3s 222ms/step - loss: 0.0439 - accuracy: 0.9827 - val_loss: 0.0433 - val_accuracy: 0.9834\n",
            "Epoch 44/50\n",
            "16/16 [==============================] - 3s 216ms/step - loss: 0.0438 - accuracy: 0.9826 - val_loss: 0.0430 - val_accuracy: 0.9837\n",
            "Epoch 45/50\n",
            "16/16 [==============================] - 2s 157ms/step - loss: 0.0439 - accuracy: 0.9826 - val_loss: 0.0429 - val_accuracy: 0.9840\n",
            "Epoch 46/50\n",
            "16/16 [==============================] - 2s 145ms/step - loss: 0.0427 - accuracy: 0.9830 - val_loss: 0.0424 - val_accuracy: 0.9842\n",
            "Epoch 47/50\n",
            "16/16 [==============================] - 2s 147ms/step - loss: 0.0430 - accuracy: 0.9831 - val_loss: 0.0416 - val_accuracy: 0.9837\n",
            "Epoch 48/50\n",
            "16/16 [==============================] - 3s 173ms/step - loss: 0.0424 - accuracy: 0.9830 - val_loss: 0.0415 - val_accuracy: 0.9837\n",
            "Epoch 49/50\n",
            "16/16 [==============================] - 4s 236ms/step - loss: 0.0417 - accuracy: 0.9833 - val_loss: 0.0416 - val_accuracy: 0.9840\n",
            "Epoch 50/50\n",
            "16/16 [==============================] - 2s 147ms/step - loss: 0.0419 - accuracy: 0.9833 - val_loss: 0.0414 - val_accuracy: 0.9841\n"
          ]
        }
      ],
      "source": [
        "# train Model\n",
        "EPOCHS = 50\n",
        "BATCH_SIZE = 8198\n",
        "VALIDATION_SPLIT = 0.2\n",
        "\n",
        "history = model.fit(X_train, y_train, validation_split = VALIDATION_SPLIT, epochs=EPOCHS, callbacks=[early_stopping,tensor_board,save_best_model_checkpoint],batch_size = BATCH_SIZE)"
      ]
    },
    {
      "cell_type": "code",
      "execution_count": 51,
      "metadata": {
        "id": "3KPUUrB0jCMN"
      },
      "outputs": [],
      "source": [
        "model.save(\"models_binary/DGA_Binary_Model.h5\")"
      ]
    },
    {
      "cell_type": "code",
      "execution_count": 26,
      "metadata": {
        "id": "CR47SOt_VYs6"
      },
      "outputs": [],
      "source": [
        "%load_ext tensorboard"
      ]
    },
    {
      "cell_type": "code",
      "execution_count": 52,
      "metadata": {
        "id": "LsyVyAigVbjB",
        "colab": {
          "base_uri": "https://localhost:8080/",
          "height": 821
        },
        "outputId": "d52fc4bb-e9d5-452c-9c1a-cb24b6984861"
      },
      "outputs": [
        {
          "output_type": "display_data",
          "data": {
            "text/plain": [
              "<IPython.core.display.Javascript object>"
            ],
            "application/javascript": [
              "\n",
              "        (async () => {\n",
              "            const url = new URL(await google.colab.kernel.proxyPort(6006, {'cache': true}));\n",
              "            url.searchParams.set('tensorboardColab', 'true');\n",
              "            const iframe = document.createElement('iframe');\n",
              "            iframe.src = url;\n",
              "            iframe.setAttribute('width', '100%');\n",
              "            iframe.setAttribute('height', '800');\n",
              "            iframe.setAttribute('frameborder', 0);\n",
              "            document.body.appendChild(iframe);\n",
              "        })();\n",
              "    "
            ]
          },
          "metadata": {}
        }
      ],
      "source": [
        "%tensorboard --logdir './logs'"
      ]
    },
    {
      "cell_type": "code",
      "execution_count": 53,
      "metadata": {
        "id": "KV8K6sXzeHqg",
        "colab": {
          "base_uri": "https://localhost:8080/"
        },
        "outputId": "74091a0c-8c16-472a-8a0d-a762610d9a83"
      },
      "outputs": [
        {
          "output_type": "stream",
          "name": "stdout",
          "text": [
            "1250/1250 [==============================] - 12s 9ms/step - loss: 0.0399 - accuracy: 0.9840\n"
          ]
        },
        {
          "output_type": "execute_result",
          "data": {
            "text/plain": [
              "[0.039919715374708176, 0.9839500188827515]"
            ]
          },
          "metadata": {},
          "execution_count": 53
        }
      ],
      "source": [
        "model.evaluate(X_test, y_test)"
      ]
    },
    {
      "cell_type": "code",
      "execution_count": 54,
      "metadata": {
        "id": "fenzED_jVez_"
      },
      "outputs": [],
      "source": [
        "def plot_metric(model_training_history, metric_name_1, metric_name_2, plot_name):\n",
        "    metric_value_1 = model_training_history.history[metric_name_1]\n",
        "    metric_value_2 = model_training_history.history[metric_name_2]\n",
        "\n",
        "    epochs = range(len(metric_value_1))\n",
        "\n",
        "    plt.figure(figsize=(8,6))\n",
        "    plt.plot(epochs, metric_value_1, 'blue', label = metric_name_1)\n",
        "    plt.plot(epochs, metric_value_2, 'red', label = metric_name_2)\n",
        "\n",
        "    plt.title(str(plot_name))\n",
        "    plt.grid()\n",
        "    plt.legend()"
      ]
    },
    {
      "cell_type": "code",
      "execution_count": 55,
      "metadata": {
        "id": "-qHsuRyHVgn9",
        "colab": {
          "base_uri": "https://localhost:8080/",
          "height": 1000
        },
        "outputId": "a23bac42-a6b4-4acf-e9f0-ae5f2e4b6fc3"
      },
      "outputs": [
        {
          "output_type": "display_data",
          "data": {
            "text/plain": [
              "<Figure size 800x600 with 1 Axes>"
            ],
            "image/png": "[encoded data removed]"
          },
          "metadata": {}
        },
        {
          "output_type": "display_data",
          "data": {
            "text/plain": [
              "<Figure size 800x600 with 1 Axes>"
            ],
            "image/png": "[encoded data removed]"
          },
          "metadata": {}
        }
      ],
      "source": [
        "plot_metric(history,'loss','val_loss','Loss Vs Val Loss')\n",
        "plot_metric(history,'accuracy','val_accuracy','Loss Vs Val Loss')"
      ]
    },
    {
      "cell_type": "markdown",
      "metadata": {
        "id": "YojO09rFVjFV"
      },
      "source": [
        "## Evaluate the Model"
      ]
    },
    {
      "cell_type": "code",
      "execution_count": 56,
      "metadata": {
        "id": "Cw9E3wzCVluV"
      },
      "outputs": [],
      "source": [
        "from sklearn.metrics import confusion_matrix\n",
        "from sklearn.metrics import precision_score, recall_score, f1_score, accuracy_score\n",
        "from sklearn.metrics import classification_report\n",
        "from sklearn.metrics import confusion_matrix"
      ]
    },
    {
      "cell_type": "code",
      "execution_count": 57,
      "metadata": {
        "id": "fsGSgFbyVnhC"
      },
      "outputs": [],
      "source": [
        "def calculate_accuray_matrix(actual,predicted):\n",
        "  f1 = f1_score(actual, predicted, average='micro')\n",
        "  recall = recall_score(actual, predicted, average='micro')\n",
        "  precision = precision_score(actual, predicted, average='micro')\n",
        "  accuracy = accuracy_score(actual, predicted)\n",
        "\n",
        "  print(f'Accuracy : {accuracy}')\n",
        "  print(f'F1 score : {f1}')\n",
        "  print(f'Recall : {recall}')\n",
        "  print(f'precision : {precision}')\n",
        "\n",
        "def confusion_matrix_plot(actual,predicted):\n",
        "  columns = benign_count.keys()\n",
        "  cm = confusion_matrix(actual, predicted)\n",
        "  df_cm = pd.DataFrame(cm, index=columns, columns=columns)\n",
        "  plt.figure(figsize=(16,12))\n",
        "  sns.heatmap(df_cm, annot=True);"
      ]
    },
    {
      "cell_type": "markdown",
      "metadata": {
        "id": "YQh3E_ykm4eC"
      },
      "source": [
        "### **Accuracies on Train Data**"
      ]
    },
    {
      "cell_type": "code",
      "execution_count": 58,
      "metadata": {
        "id": "_VUehtUAm8KM",
        "colab": {
          "base_uri": "https://localhost:8080/"
        },
        "outputId": "c635d617-677b-4c06-fa62-36272a603f9c"
      },
      "outputs": [
        {
          "output_type": "stream",
          "name": "stdout",
          "text": [
            "5000/5000 [==============================] - 48s 10ms/step\n",
            "Predicted Train Labels : [0 1 0 0 0 1 1 0 0 1]\n",
            "Actual Train Labels : [0 1 0 0 0 1 1 0 0 1]\n",
            "Accuracy : 0.9847875\n",
            "F1 score : 0.9847875\n",
            "Recall : 0.9847875\n",
            "precision : 0.9847875\n"
          ]
        }
      ],
      "source": [
        "train_predictions = model.predict(X_train)\n",
        "train_predictions = np.argmax(train_predictions, axis=1)\n",
        "actual_train_targets = np.argmax(y_train, axis=1)\n",
        "\n",
        "print(f'Predicted Train Labels : {train_predictions[:10]}')\n",
        "print(f'Actual Train Labels : {actual_train_targets[:10]}')\n",
        "\n",
        "calculate_accuray_matrix(train_predictions,actual_train_targets)"
      ]
    },
    {
      "cell_type": "code",
      "execution_count": 59,
      "metadata": {
        "id": "27k9iXKum9ot",
        "colab": {
          "base_uri": "https://localhost:8080/"
        },
        "outputId": "4f4405a9-af80-4879-fc40-68e6377931df"
      },
      "outputs": [
        {
          "output_type": "stream",
          "name": "stdout",
          "text": [
            "              precision    recall  f1-score   support\n",
            "\n",
            "           0       0.99      0.98      0.98     79993\n",
            "           1       0.98      0.99      0.98     80007\n",
            "\n",
            "    accuracy                           0.98    160000\n",
            "   macro avg       0.98      0.98      0.98    160000\n",
            "weighted avg       0.98      0.98      0.98    160000\n",
            "\n"
          ]
        }
      ],
      "source": [
        "# Classification Report for Train Data\n",
        "print(classification_report(actual_train_targets, train_predictions))"
      ]
    },
    {
      "cell_type": "code",
      "execution_count": 60,
      "metadata": {
        "id": "HV5k_1Khm_Yl",
        "colab": {
          "base_uri": "https://localhost:8080/",
          "height": 984
        },
        "outputId": "d140da97-3d5e-4850-af52-7ce6a88a62d6"
      },
      "outputs": [
        {
          "output_type": "display_data",
          "data": {
            "text/plain": [
              "<Figure size 1600x1200 with 2 Axes>"
            ],
            "image/png": "[encoded data removed]"
          },
          "metadata": {}
        }
      ],
      "source": [
        "# confusion Matrix for train data\n",
        "confusion_matrix_plot(actual_train_targets, train_predictions)"
      ]
    },
    {
      "cell_type": "markdown",
      "metadata": {
        "id": "UrNltw_gnCHK"
      },
      "source": [
        "### **Accuracies on Test Data**"
      ]
    },
    {
      "cell_type": "code",
      "execution_count": 61,
      "metadata": {
        "id": "TBkf-qFTnGGs",
        "colab": {
          "base_uri": "https://localhost:8080/"
        },
        "outputId": "8919a58a-3e5d-47fa-d238-78a4142978f8"
      },
      "outputs": [
        {
          "output_type": "stream",
          "name": "stdout",
          "text": [
            "1250/1250 [==============================] - 11s 9ms/step\n",
            "Predicted Test Labels : [0 1 0 1 1 1 0 0 0 1]\n",
            "Actual Test Labels : [0 1 0 1 1 1 0 0 0 1]\n",
            "Accuracy : 0.98395\n",
            "F1 score : 0.98395\n",
            "Recall : 0.98395\n",
            "precision : 0.98395\n"
          ]
        }
      ],
      "source": [
        "test_predictions = model.predict(X_test)\n",
        "test_predictions = np.argmax(test_predictions, axis=1)\n",
        "actual_test_targets = np.argmax(y_test, axis=1)\n",
        "\n",
        "print(f'Predicted Test Labels : {test_predictions[:10]}')\n",
        "print(f'Actual Test Labels : {actual_test_targets[:10]}')\n",
        "\n",
        "calculate_accuray_matrix(test_predictions,actual_test_targets)"
      ]
    },
    {
      "cell_type": "code",
      "execution_count": 62,
      "metadata": {
        "id": "-deML75hnHwc",
        "colab": {
          "base_uri": "https://localhost:8080/"
        },
        "outputId": "b5322507-23e5-424b-a684-541dee86651a"
      },
      "outputs": [
        {
          "output_type": "stream",
          "name": "stdout",
          "text": [
            "              precision    recall  f1-score   support\n",
            "\n",
            "           0       0.99      0.97      0.98     20007\n",
            "           1       0.98      0.99      0.98     19993\n",
            "\n",
            "    accuracy                           0.98     40000\n",
            "   macro avg       0.98      0.98      0.98     40000\n",
            "weighted avg       0.98      0.98      0.98     40000\n",
            "\n"
          ]
        }
      ],
      "source": [
        "# Classification Report for Test Data\n",
        "print(classification_report(actual_test_targets, test_predictions))"
      ]
    },
    {
      "cell_type": "code",
      "execution_count": 63,
      "metadata": {
        "id": "3n_A5QvMnJOk",
        "colab": {
          "base_uri": "https://localhost:8080/",
          "height": 984
        },
        "outputId": "acc3fca6-f4d1-464b-b205-1ca5b589d98e"
      },
      "outputs": [
        {
          "output_type": "display_data",
          "data": {
            "text/plain": [
              "<Figure size 1600x1200 with 2 Axes>"
            ],
            "image/png": "[encoded data removed]"
          },
          "metadata": {}
        }
      ],
      "source": [
        "# confusion Matrix for test data\n",
        "confusion_matrix_plot(actual_test_targets, test_predictions)"
      ]
    },
    {
      "cell_type": "markdown",
      "metadata": {
        "id": "TyOb3f6rnK6c"
      },
      "source": [
        "## **Predictions on New Data**"
      ]
    },
    {
      "cell_type": "code",
      "execution_count": 64,
      "metadata": {
        "id": "ogbRQkKMnQQs",
        "colab": {
          "base_uri": "https://localhost:8080/"
        },
        "outputId": "222f4936-075a-4b2f-d98e-621b84e2d487"
      },
      "outputs": [
        {
          "output_type": "stream",
          "name": "stdout",
          "text": [
            "1/1 [==============================] - 0s 232ms/step\n",
            "[[0.02471876 0.9752813 ]]\n",
            "[['DGA']]\n"
          ]
        }
      ],
      "source": [
        "\n",
        "test_word = 'xkkumnnbpr.com'\n",
        "test_word = pd.Series(test_word)\n",
        "test_word = tokenizer.texts_to_sequences(test_word)\n",
        "test_word = pad_sequences(test_word, maxlen = max_length , padding='post')\n",
        "\n",
        "test_predictions = model.predict(test_word)\n",
        "#test_predictions = np.argmax(test_predictions, axis=1)\n",
        "print(test_predictions)\n",
        "print(hot_encode.inverse_transform(test_predictions))"
      ]
    },
    {
      "cell_type": "code",
      "execution_count": 65,
      "metadata": {
        "id": "5Nben8RXnS8X"
      },
      "outputs": [],
      "source": [
        "def preprocess_function(text):\n",
        "  max_length = 20\n",
        "  if text[:3] == \"www\":\n",
        "    text = text[4:]\n",
        "\n",
        "  encode_text = pd.Series(text)\n",
        "  encode_text = tokenizer.texts_to_sequences(encode_text)\n",
        "  preprocess_text = pad_sequences(encode_text, maxlen = max_length , padding='post')\n",
        "  return preprocess_text"
      ]
    },
    {
      "cell_type": "code",
      "execution_count": 66,
      "metadata": {
        "id": "C2qzlzSLnWiN",
        "colab": {
          "base_uri": "https://localhost:8080/"
        },
        "outputId": "a0e35771-5b31-4103-d29a-d25c195804b9"
      },
      "outputs": [
        {
          "output_type": "stream",
          "name": "stdout",
          "text": [
            "1/1 [==============================] - 0s 25ms/step\n",
            "The Website : www.xkkumnnbpr.com is DGA\n"
          ]
        }
      ],
      "source": [
        "test_website = 'www.xkkumnnbpr.com'\n",
        "preprocess_text =  preprocess_function(test_website)\n",
        "\n",
        "prediction_class = model.predict(preprocess_text)\n",
        "prediction = hot_encode.inverse_transform(prediction_class)\n",
        "\n",
        "print(f'The Website : {test_website} is {prediction[0][0]}')"
      ]
    },
    {
      "cell_type": "markdown",
      "metadata": {
        "id": "iPhcKOJiR0Hz"
      },
      "source": [
        "### **Save data for future prediction**"
      ]
    },
    {
      "cell_type": "code",
      "execution_count": 67,
      "metadata": {
        "id": "_uceR1QWRyZ9",
        "colab": {
          "base_uri": "https://localhost:8080/"
        },
        "outputId": "82a31336-a798-47f7-9c24-22e60679aa07"
      },
      "outputs": [
        {
          "output_type": "execute_result",
          "data": {
            "text/plain": [
              "['utils_DGA_BINARY/hot_encode.sav']"
            ]
          },
          "metadata": {},
          "execution_count": 67
        }
      ],
      "source": [
        "import os\n",
        "import joblib\n",
        "import io\n",
        "import json\n",
        "\n",
        "save_dir = r'utils_DGA_BINARY'\n",
        "if not os.path.exists(save_dir):\n",
        "  os.makedirs(save_dir)\n",
        "\n",
        "# save tokenizer\n",
        "tokenizer_json = tokenizer.to_json()\n",
        "with io.open(save_dir+'/Binary_tokenizer.json', 'w', encoding='utf-8') as f:\n",
        "    f.write(json.dumps(tokenizer_json, ensure_ascii=False))\n",
        "\n",
        "# save hot-encoder\n",
        "joblib.dump(hot_encode,save_dir+'/hot_encode.sav')"
      ]
    },
    {
      "cell_type": "code",
      "source": [],
      "metadata": {
        "id": "sFH71PXyyxcW"
      },
      "execution_count": 67,
      "outputs": []
    }
  ],
  "metadata": {
    "colab": {
      "provenance": [],
      "gpuType": "T4",
      "include_colab_link": true
    },
    "kernelspec": {
      "display_name": "Python 3",
      "name": "python3"
    },
    "language_info": {
      "codemirror_mode": {
        "name": "ipython",
        "version": 3
      },
      "file_extension": ".py",
      "mimetype": "text/x-python",
      "name": "python",
      "nbconvert_exporter": "python",
      "pygments_lexer": "ipython3",
      "version": "3.8.3"
    },
    "accelerator": "GPU"
  },
  "nbformat": 4,
  "nbformat_minor": 0
}